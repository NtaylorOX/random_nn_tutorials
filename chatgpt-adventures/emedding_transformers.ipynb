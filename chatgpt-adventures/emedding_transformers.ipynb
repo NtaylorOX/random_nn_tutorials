{
 "cells": [
  {
   "cell_type": "code",
   "execution_count": 3,
   "metadata": {},
   "outputs": [],
   "source": [
    "import torch\n",
    "from transformers import AutoTokenizer, AutoModel\n",
    "\n",
    "# from chatgpt\n",
    "def get_sentence_embeddings(model_name_or_path, data_examples):\n",
    "    \n",
    "\n",
    "    # Set the device to use (GPU if available)\n",
    "    device = torch.device(\"cuda\" if torch.cuda.is_available() else \"cpu\")\n",
    "    # Load pre-trained model tokenizer and model weights\n",
    "    tokenizer = AutoTokenizer.from_pretrained(model_name_or_path)\n",
    "    model = AutoModel.from_pretrained(model_name_or_path).to(device)\n",
    "\n",
    "    # Tokenize the text samples and convert to tensors\n",
    "    inputs = tokenizer(data_examples, padding=True, truncation=True, return_tensors=\"pt\")\n",
    "    inputs = inputs.to(device)\n",
    "\n",
    "    # Pass the inputs through the model and retrieve the embeddings for all tokens\n",
    "    outputs = model(**inputs)\n",
    "\n",
    "    # Retrieve the attention mask from the inputs\n",
    "    attention_mask = inputs[\"attention_mask\"]\n",
    "\n",
    "    # Compute the weighted mean of the token embeddings for each sentence\n",
    "    sum_embeddings = torch.sum(outputs.last_hidden_state * attention_mask.unsqueeze(-1), dim=1)\n",
    "    mean_embeddings = sum_embeddings / torch.sum(attention_mask, dim=1, keepdim=True)\n",
    "\n",
    "    # Move embeddings back to the CPU and convert to numpy array\n",
    "    mean_embeddings = mean_embeddings.cpu().detach().numpy()\n",
    "\n",
    "    return mean_embeddings\n"
   ]
  },
  {
   "cell_type": "code",
   "execution_count": 24,
   "metadata": {},
   "outputs": [
    {
     "name": "stderr",
     "output_type": "stream",
     "text": [
      "Some weights of the model checkpoint at bert-base-uncased were not used when initializing BertModel: ['cls.seq_relationship.weight', 'cls.predictions.transform.dense.bias', 'cls.seq_relationship.bias', 'cls.predictions.transform.LayerNorm.weight', 'cls.predictions.transform.dense.weight', 'cls.predictions.decoder.weight', 'cls.predictions.transform.LayerNorm.bias', 'cls.predictions.bias']\n",
      "- This IS expected if you are initializing BertModel from the checkpoint of a model trained on another task or with another architecture (e.g. initializing a BertForSequenceClassification model from a BertForPreTraining model).\n",
      "- This IS NOT expected if you are initializing BertModel from the checkpoint of a model that you expect to be exactly identical (initializing a BertForSequenceClassification model from a BertForSequenceClassification model).\n"
     ]
    }
   ],
   "source": [
    "# Example usage\n",
    "model_name_or_path = \"bert-base-uncased\"\n",
    "data_examples = [\n",
    "    \"This is the first sentence.\",\n",
    "    \"Here is the second sentence.\",\n",
    "    \"And this is the third sentence.\",\n",
    "    \"This is the first sentence.\",\n",
    "    \"Here is the second sentence.\",\n",
    "    \"And this is the third sentence.\",\n",
    "    \"This is the first sentence.\",\n",
    "    \"Here is the second sentence.\",\n",
    "    \"And this is the third sentence.\",\n",
    "    \"This is the first sentence.\",\n",
    "    \"Here is the second sentence.\",\n",
    "    \"And this is the third sentence.\",\n",
    "    \"This is the first sentence.\",\n",
    "    \"Here is the second sentence.\",\n",
    "    \"And this is the third sentence.\",\n",
    "    \"This is the first sentence.\",\n",
    "    \"Here is the second sentence.\",\n",
    "    \"And this is the third sentence.\",\n",
    "    \"This is the first sentence.\",\n",
    "    \"Here is the second sentence.\",\n",
    "    \"And this is the third sentence.\",\n",
    "    \"This is the first sentence.\",\n",
    "    \"Here is the second sentence.\",\n",
    "    \"And this is the third sentence.\"\n",
    "]\n",
    "\n",
    "# Compute sentence embeddings\n",
    "embeddings = get_sentence_embeddings(model_name_or_path, data_examples)\n",
    "\n",
    "# Print the resulting embeddings for each sentence\n",
    "# for i, embedding in enumerate(embeddings):\n",
    "#     # print(f\"Sentence {i+1} embedding:\\n{embedding}\\n\")\n"
   ]
  },
  {
   "cell_type": "code",
   "execution_count": 7,
   "metadata": {},
   "outputs": [],
   "source": [
    "\n",
    "\n",
    "def get_sentence_embeddings_mine(model_name_or_path, data_examples):\n",
    "    \n",
    "\n",
    "    # Set the device to use (GPU if available)\n",
    "    device = torch.device(\"cuda\" if torch.cuda.is_available() else \"cpu\")\n",
    "    # Load pre-trained model tokenizer and model weights\n",
    "    tokenizer = AutoTokenizer.from_pretrained(model_name_or_path)\n",
    "    model = AutoModel.from_pretrained(model_name_or_path).to(device)\n",
    "\n",
    "    # Tokenize the text samples and convert to tensors\n",
    "    inputs = tokenizer(data_examples, padding=True, truncation=True, return_tensors=\"pt\")\n",
    "    inputs = inputs.to(device)\n",
    "\n",
    "    with torch.no_grad():\n",
    "    # Pass the inputs through the model and retrieve the embeddings for all tokens\n",
    "        outputs = model(**inputs)\n",
    "\n",
    "        attention_mask = inputs['attention_mask']\n",
    "        sequence_output = outputs.last_hidden_state\n",
    "        pooled_output  = torch.sum(\n",
    "            sequence_output * attention_mask.unsqueeze(-1), dim=1\n",
    "        ) / torch.clamp(torch.sum(attention_mask, dim=1, keepdims=True), min=1e-9)\n",
    "\n",
    "\n",
    "\n",
    "    return pooled_output.cpu().numpy()"
   ]
  },
  {
   "cell_type": "code",
   "execution_count": 8,
   "metadata": {},
   "outputs": [
    {
     "name": "stderr",
     "output_type": "stream",
     "text": [
      "Some weights of the model checkpoint at bert-base-uncased were not used when initializing BertModel: ['cls.seq_relationship.weight', 'cls.predictions.transform.dense.bias', 'cls.seq_relationship.bias', 'cls.predictions.transform.LayerNorm.weight', 'cls.predictions.transform.dense.weight', 'cls.predictions.decoder.weight', 'cls.predictions.transform.LayerNorm.bias', 'cls.predictions.bias']\n",
      "- This IS expected if you are initializing BertModel from the checkpoint of a model trained on another task or with another architecture (e.g. initializing a BertForSequenceClassification model from a BertForPreTraining model).\n",
      "- This IS NOT expected if you are initializing BertModel from the checkpoint of a model that you expect to be exactly identical (initializing a BertForSequenceClassification model from a BertForSequenceClassification model).\n"
     ]
    }
   ],
   "source": [
    "embeddings_mine = get_sentence_embeddings_mine(model_name_or_path, data_examples)"
   ]
  },
  {
   "cell_type": "code",
   "execution_count": 35,
   "metadata": {},
   "outputs": [],
   "source": [
    "import umap\n",
    "import matplotlib.pyplot as plt\n",
    "\n",
    "\n",
    "# def visualize_embeddings(embeddings):\n",
    "#     # Use UMAP to reduce the dimensionality of the embeddings to 2D\n",
    "#     reducer = umap.UMAP(n_components=2, metric = \"cosine\")\n",
    "#     mapper = reducer.fit(embeddings)\n",
    "#     umap_embeddings = mapper.embedding_ \n",
    "\n",
    "#     # Plot the resulting 2D embeddings\n",
    "#     plt.scatter(umap_embeddings[:, 0], umap_embeddings[:, 1])\n",
    "#     plt.show()\n",
    "\n",
    "#     return umap_embeddings\n",
    "\n",
    "import umap\n",
    "import matplotlib.pyplot as plt\n",
    "\n",
    "\n",
    "def visualize_embeddings(embeddings):\n",
    "    # Use UMAP to reduce the dimensionality of the embeddings to 2D\n",
    "    reducer = umap.UMAP(n_components=2)\n",
    "    umap_embeddings = reducer.fit_transform(embeddings)\n",
    "\n",
    "    # Plot the resulting 2D embeddings\n",
    "    plt.scatter(umap_embeddings[:, 0], umap_embeddings[:, 1])\n",
    "    plt.show()\n"
   ]
  },
  {
   "cell_type": "code",
   "execution_count": 36,
   "metadata": {},
   "outputs": [
    {
     "data": {
      "image/png": "[encoded data removed]",
      "text/plain": [
       "<Figure size 432x288 with 1 Axes>"
      ]
     },
     "metadata": {
      "needs_background": "light"
     },
     "output_type": "display_data"
    }
   ],
   "source": [
    "visualize_embeddings(embeddings)"
   ]
  },
  {
   "cell_type": "code",
   "execution_count": 32,
   "metadata": {},
   "outputs": [
    {
     "data": {
      "text/plain": [
       "(24, 2)"
      ]
     },
     "execution_count": 32,
     "metadata": {},
     "output_type": "execute_result"
    }
   ],
   "source": [
    "umap_embeds.embedding_.shape"
   ]
  }
 ],
 "metadata": {
  "kernelspec": {
   "display_name": "39nlp",
   "language": "python",
   "name": "python3"
  },
  "language_info": {
   "codemirror_mode": {
    "name": "ipython",
    "version": 3
   },
   "file_extension": ".py",
   "mimetype": "text/x-python",
   "name": "python",
   "nbconvert_exporter": "python",
   "pygments_lexer": "ipython3",
   "version": "3.9.16"
  },
  "orig_nbformat": 4
 },
 "nbformat": 4,
 "nbformat_minor": 2
}
