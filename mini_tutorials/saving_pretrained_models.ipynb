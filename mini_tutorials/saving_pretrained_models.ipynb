{
 "cells": [
  {
   "cell_type": "code",
   "execution_count": 1,
   "metadata": {},
   "outputs": [],
   "source": [
    "from transformers import AutoTokenizer, AutoModel\n",
    "import torch\n",
    "from tqdm import tqdm\n",
    "import os"
   ]
  },
  {
   "cell_type": "code",
   "execution_count": 2,
   "metadata": {},
   "outputs": [],
   "source": [
    "# tokenizer = AutoTokenizer.from_pretrained(\"emilyalsentzer/Bio_ClinicalBERT\")\n",
    "# model = AutoModel.from_pretrained(\"emilyalsentzer/Bio_ClinicalBERT\")"
   ]
  },
  {
   "cell_type": "code",
   "execution_count": 3,
   "metadata": {},
   "outputs": [],
   "source": [
    "# model"
   ]
  },
  {
   "cell_type": "code",
   "execution_count": 4,
   "metadata": {},
   "outputs": [],
   "source": [
    "# models_path = \"../pretrained_models/clinical-bio-bert/\"\n",
    "\n",
    "# model.save_pretrained(f\"{models_path}model/\")\n",
    "# tokenizer.save_pretrained(f\"{models_path}tokenizer/\")"
   ]
  },
  {
   "cell_type": "code",
   "execution_count": 12,
   "metadata": {},
   "outputs": [],
   "source": [
    "# test save model dict\n",
    "# models_path = \"../pretrained_models/clinical-bio-bert/state_dicts/\"\n",
    "\n",
    "\n",
    "# torch.save(model.state_dict(),f\"{models_path}model/\")\n",
    "# tokenizer.save_pretrained(f\"{models_path}tokenizer/\")"
   ]
  },
  {
   "cell_type": "code",
   "execution_count": 5,
   "metadata": {},
   "outputs": [],
   "source": [
    "# test loading from path\n",
    "\n",
    "# reloaded_model  = AutoModel.from_pretrained(f\"{models_path}model\")\n",
    "# reloaded_tokenzer = AutoTokenizer.from_pretrained(f\"{models_path}tokenizer\")"
   ]
  },
  {
   "cell_type": "code",
   "execution_count": 6,
   "metadata": {},
   "outputs": [],
   "source": [
    "# reloaded_model"
   ]
  },
  {
   "cell_type": "code",
   "execution_count": 2,
   "metadata": {},
   "outputs": [],
   "source": [
    "# function for downloading and locally saving some huggingface models \n",
    "\n",
    "def download_save_transformers(model_names, save_dir):\n",
    "    \n",
    "    for m_name in tqdm(model_names):\n",
    "        print(f\"loading following model: {m_name} from transformers/hugging face: \")\n",
    "        if os.path.exists(f\"{save_dir}/{m_name}/model/\"):\n",
    "            print(\"Looks like this model has already been downloaded and saved before\")\n",
    "        else:\n",
    "            try:\n",
    "                model = AutoModel.from_pretrained(m_name)\n",
    "                tokenizer = AutoTokenizer.from_pretrained(m_name)\n",
    "                # save locally\n",
    "\n",
    "                    \n",
    "                model.save_pretrained(f\"{save_dir}/{m_name}/model/\")\n",
    "                tokenizer.save_pretrained(f\"{save_dir}/{m_name}/tokenizer/\")\n",
    "\n",
    "            except:\n",
    "                print(f\"When trying to load {m_name} from transformers library - it failed. Likely wrong name or something\")\n",
    "                pass\n",
    "\n"
   ]
  },
  {
   "cell_type": "code",
   "execution_count": 3,
   "metadata": {},
   "outputs": [
    {
     "name": "stderr",
     "output_type": "stream",
     "text": [
      "  0%|          | 0/11 [00:00<?, ?it/s]"
     ]
    },
    {
     "name": "stdout",
     "output_type": "stream",
     "text": [
      "loading following model: cambridgeltl/SapBERT-from-PubMedBERT-fulltext-mean-token from transformers/hugging face: \n",
      "Looks like this model has already been downloaded and saved before\n",
      "loading following model: michiyasunaga/BioLinkBERT-base from transformers/hugging face: \n",
      "Looks like this model has already been downloaded and saved before\n",
      "loading following model: michiyasunaga/BioLinkBERT-large from transformers/hugging face: \n",
      "Looks like this model has already been downloaded and saved before\n",
      "loading following model: michiyasunaga/LinkBERT-base from transformers/hugging face: \n",
      "Looks like this model has already been downloaded and saved before\n",
      "loading following model: michiyasunaga/LinkBERT-large from transformers/hugging face: \n",
      "Looks like this model has already been downloaded and saved before\n",
      "loading following model: johngiorgi/declutr-base from transformers/hugging face: \n",
      "Looks like this model has already been downloaded and saved before\n",
      "loading following model: johngiorgi/declutr-small from transformers/hugging face: \n",
      "Looks like this model has already been downloaded and saved before\n",
      "loading following model: yikuan8/Clinical-BigBird from transformers/hugging face: \n",
      "Looks like this model has already been downloaded and saved before\n",
      "loading following model: yikuan8/Clinical-Longformer from transformers/hugging face: \n",
      "Looks like this model has already been downloaded and saved before\n",
      "loading following model: sentence-transformers/all-distilroberta-v1 from transformers/hugging face: \n"
     ]
    },
    {
     "data": {
      "application/vnd.jupyter.widget-view+json": {
       "model_id": "ad2129bf6cf247f7841dd55c5fc84529",
       "version_major": 2,
       "version_minor": 0
      },
      "text/plain": [
       "Downloading:   0%|          | 0.00/653 [00:00<?, ?B/s]"
      ]
     },
     "metadata": {},
     "output_type": "display_data"
    },
    {
     "data": {
      "application/vnd.jupyter.widget-view+json": {
       "model_id": "d7c261b3198c4a0ebb1c3292d2cc6410",
       "version_major": 2,
       "version_minor": 0
      },
      "text/plain": [
       "Downloading:   0%|          | 0.00/313M [00:00<?, ?B/s]"
      ]
     },
     "metadata": {},
     "output_type": "display_data"
    },
    {
     "data": {
      "application/vnd.jupyter.widget-view+json": {
       "model_id": "8495da4c57ef4d7aa78d44cf6d851b49",
       "version_major": 2,
       "version_minor": 0
      },
      "text/plain": [
       "Downloading:   0%|          | 0.00/333 [00:00<?, ?B/s]"
      ]
     },
     "metadata": {},
     "output_type": "display_data"
    },
    {
     "data": {
      "application/vnd.jupyter.widget-view+json": {
       "model_id": "8a03f5573c574d7f8b690a9233534281",
       "version_major": 2,
       "version_minor": 0
      },
      "text/plain": [
       "Downloading:   0%|          | 0.00/780k [00:00<?, ?B/s]"
      ]
     },
     "metadata": {},
     "output_type": "display_data"
    },
    {
     "data": {
      "application/vnd.jupyter.widget-view+json": {
       "model_id": "1f6e331c25cb4a8abc2793f02e08a887",
       "version_major": 2,
       "version_minor": 0
      },
      "text/plain": [
       "Downloading:   0%|          | 0.00/446k [00:00<?, ?B/s]"
      ]
     },
     "metadata": {},
     "output_type": "display_data"
    },
    {
     "data": {
      "application/vnd.jupyter.widget-view+json": {
       "model_id": "2fa77237278f4f5aa87eeb759a25196f",
       "version_major": 2,
       "version_minor": 0
      },
      "text/plain": [
       "Downloading:   0%|          | 0.00/1.29M [00:00<?, ?B/s]"
      ]
     },
     "metadata": {},
     "output_type": "display_data"
    },
    {
     "data": {
      "application/vnd.jupyter.widget-view+json": {
       "model_id": "cab232141a154428b180155faab43827",
       "version_major": 2,
       "version_minor": 0
      },
      "text/plain": [
       "Downloading:   0%|          | 0.00/239 [00:00<?, ?B/s]"
      ]
     },
     "metadata": {},
     "output_type": "display_data"
    },
    {
     "name": "stderr",
     "output_type": "stream",
     "text": [
      " 91%|█████████ | 10/11 [00:18<00:01,  1.82s/it]"
     ]
    },
    {
     "name": "stdout",
     "output_type": "stream",
     "text": [
      "loading following model: google/pegasus-xsum from transformers/hugging face: \n"
     ]
    },
    {
     "data": {
      "application/vnd.jupyter.widget-view+json": {
       "model_id": "1cfc351f254644539ad337c10ef57892",
       "version_major": 2,
       "version_minor": 0
      },
      "text/plain": [
       "Downloading:   0%|          | 0.00/1.36k [00:00<?, ?B/s]"
      ]
     },
     "metadata": {},
     "output_type": "display_data"
    },
    {
     "data": {
      "application/vnd.jupyter.widget-view+json": {
       "model_id": "986f7c2bbb504ebd8c01c1023113b6da",
       "version_major": 2,
       "version_minor": 0
      },
      "text/plain": [
       "Downloading:   0%|          | 0.00/2.12G [00:00<?, ?B/s]"
      ]
     },
     "metadata": {},
     "output_type": "display_data"
    },
    {
     "name": "stderr",
     "output_type": "stream",
     "text": [
      "Some weights of the model checkpoint at google/pegasus-xsum were not used when initializing PegasusModel: ['final_logits_bias']\n",
      "- This IS expected if you are initializing PegasusModel from the checkpoint of a model trained on another task or with another architecture (e.g. initializing a BertForSequenceClassification model from a BertForPreTraining model).\n",
      "- This IS NOT expected if you are initializing PegasusModel from the checkpoint of a model that you expect to be exactly identical (initializing a BertForSequenceClassification model from a BertForSequenceClassification model).\n",
      "Some weights of PegasusModel were not initialized from the model checkpoint at google/pegasus-xsum and are newly initialized: ['model.decoder.embed_positions.weight', 'model.encoder.embed_positions.weight']\n",
      "You should probably TRAIN this model on a down-stream task to be able to use it for predictions and inference.\n"
     ]
    },
    {
     "data": {
      "application/vnd.jupyter.widget-view+json": {
       "model_id": "292d8a61e0d74aaa9f50fa572fa79e57",
       "version_major": 2,
       "version_minor": 0
      },
      "text/plain": [
       "Downloading:   0%|          | 0.00/87.0 [00:00<?, ?B/s]"
      ]
     },
     "metadata": {},
     "output_type": "display_data"
    },
    {
     "data": {
      "application/vnd.jupyter.widget-view+json": {
       "model_id": "79874c18a1a14af480ecf4468766a2d5",
       "version_major": 2,
       "version_minor": 0
      },
      "text/plain": [
       "Downloading:   0%|          | 0.00/1.82M [00:00<?, ?B/s]"
      ]
     },
     "metadata": {},
     "output_type": "display_data"
    },
    {
     "data": {
      "application/vnd.jupyter.widget-view+json": {
       "model_id": "e5fe10284c6347f0b328488631861df8",
       "version_major": 2,
       "version_minor": 0
      },
      "text/plain": [
       "Downloading:   0%|          | 0.00/3.36M [00:00<?, ?B/s]"
      ]
     },
     "metadata": {},
     "output_type": "display_data"
    },
    {
     "data": {
      "application/vnd.jupyter.widget-view+json": {
       "model_id": "55a85f69234543599874eb6d0c13bb1d",
       "version_major": 2,
       "version_minor": 0
      },
      "text/plain": [
       "Downloading:   0%|          | 0.00/65.0 [00:00<?, ?B/s]"
      ]
     },
     "metadata": {},
     "output_type": "display_data"
    },
    {
     "name": "stderr",
     "output_type": "stream",
     "text": [
      "100%|██████████| 11/11 [01:33<00:00,  8.54s/it]\n"
     ]
    }
   ],
   "source": [
    "model_names = [\"cambridgeltl/SapBERT-from-PubMedBERT-fulltext-mean-token\",\n",
    "               \"michiyasunaga/BioLinkBERT-base\",\n",
    "               \"michiyasunaga/BioLinkBERT-large\",\n",
    "               \"michiyasunaga/LinkBERT-base\",\n",
    "               \"michiyasunaga/LinkBERT-large\",\n",
    "               \"johngiorgi/declutr-base\",\n",
    "               \"johngiorgi/declutr-small\", \n",
    "               \"yikuan8/Clinical-BigBird\",\n",
    "               \"yikuan8/Clinical-Longformer\",\n",
    "               \"sentence-transformers/all-distilroberta-v1\",\n",
    "               \"google/pegasus-xsum\"]\n",
    "save_dir = \"../../Chronosig_projects/Models_to_upload/hf_pretrained_models/\"\n",
    "download_save_transformers(model_names,save_dir)"
   ]
  },
  {
   "cell_type": "code",
   "execution_count": null,
   "metadata": {},
   "outputs": [],
   "source": []
  }
 ],
 "metadata": {
  "kernelspec": {
   "display_name": "Python 3.9.12 ('general_nlp')",
   "language": "python",
   "name": "python3"
  },
  "language_info": {
   "codemirror_mode": {
    "name": "ipython",
    "version": 3
   },
   "file_extension": ".py",
   "mimetype": "text/x-python",
   "name": "python",
   "nbconvert_exporter": "python",
   "pygments_lexer": "ipython3",
   "version": "3.9.12"
  },
  "orig_nbformat": 4,
  "vscode": {
   "interpreter": {
    "hash": "d615625bfce5ffa06059d69800a6f3c71851d453f536ef9a662c6494748581ea"
   }
  }
 },
 "nbformat": 4,
 "nbformat_minor": 2
}
